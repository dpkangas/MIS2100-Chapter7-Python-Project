{
 "cells": [
  {
   "cell_type": "markdown",
   "id": "78dde503",
   "metadata": {},
   "source": [
    "This notebook creates and uses a Customer class"
   ]
  },
  {
   "cell_type": "code",
   "execution_count": 62,
   "id": "a3cc67d0",
   "metadata": {},
   "outputs": [],
   "source": [
    "class Customer:\n",
    "    def __init__(self,firstName=None,lastName=None,address=None,age=20):\n",
    "        self._firstName = firstName\n",
    "        self._lastName = lastName\n",
    "        self._address = address\n",
    "        self._age = age\n",
    "    def getFirstName(self):\n",
    "        return self._firstName\n",
    "    def setFirstName(self,firstName):\n",
    "        self._firstName = firstName\n",
    "    def getLastName(self):\n",
    "        return self._lastName\n",
    "    def setLastName(self,lastName):\n",
    "        self._lastName = lastName\n",
    "    def getAddress(self):\n",
    "        return self._address\n",
    "    def setAddress(self,address):\n",
    "        self._address = address\n",
    "    def getAge(self):\n",
    "        return self._age\n",
    "    def setAge(self,age):\n",
    "        self._age = age\n",
    "    def printCustomerDetails(self):\n",
    "        print(\"Name: \"+str(self._firstName)+\" \"+str(self._lastName))\n",
    "        print(\"Address: \"+str(self._address))\n",
    "        print(\"Age: \"+str(self._age))"
   ]
  },
  {
   "cell_type": "code",
   "execution_count": 63,
   "id": "f63b6ca1",
   "metadata": {},
   "outputs": [
    {
     "name": "stdout",
     "output_type": "stream",
     "text": [
      "Name: Dinah Kangas\n",
      "Address: 526 Hancock St\n",
      "Age: 18\n",
      "Name: Rena Sheffer\n",
      "Address: 476 Wally St\n",
      "Age: 19\n"
     ]
    }
   ],
   "source": [
    "firstCustomer = Customer(\"Dinah\",\"Kangas\",\"526 Hancock St\",18)\n",
    "firstCustomer.printCustomerDetails()\n",
    "secondCustomer = Customer()\n",
    "secondCustomer.setFirstName(\"Rena\")\n",
    "secondCustomer.setLastName(\"Sheffer\")\n",
    "secondCustomer.setAddress(\"476 Wally St\")\n",
    "secondCustomer.setAge(19)\n",
    "secondCustomer.printCustomerDetails()"
   ]
  },
  {
   "cell_type": "code",
   "execution_count": null,
   "id": "9bad399a",
   "metadata": {},
   "outputs": [],
   "source": []
  }
 ],
 "metadata": {
  "kernelspec": {
   "display_name": "Python 3",
   "language": "python",
   "name": "python3"
  },
  "language_info": {
   "codemirror_mode": {
    "name": "ipython",
    "version": 3
   },
   "file_extension": ".py",
   "mimetype": "text/x-python",
   "name": "python",
   "nbconvert_exporter": "python",
   "pygments_lexer": "ipython3",
   "version": "3.8.8"
  }
 },
 "nbformat": 4,
 "nbformat_minor": 5
}
