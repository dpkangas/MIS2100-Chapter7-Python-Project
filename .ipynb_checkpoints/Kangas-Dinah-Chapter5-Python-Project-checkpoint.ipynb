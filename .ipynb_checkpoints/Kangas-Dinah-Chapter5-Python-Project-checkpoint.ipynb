{
 "cells": [
  {
   "cell_type": "code",
   "execution_count": 27,
   "id": "105ff156",
   "metadata": {
    "scrolled": true
   },
   "outputs": [],
   "source": [
    "class Department:\n",
    "    def __init__(self,departmentSupervisor):\n",
    "        self.departmentSupervisor = departmentSupervisor\n",
    "        self.departmentAssets = []"
   ]
  },
  {
   "cell_type": "code",
   "execution_count": 28,
   "id": "d8dc1422",
   "metadata": {},
   "outputs": [],
   "source": [
    "class DepartmentAsset:\n",
    "    def __init__(self,assetName,assetValue,quantity,expectedLifespan):\n",
    "        self.assetName = assetName\n",
    "        self.assetValue = assetValue\n",
    "        self.quantity = quantity\n",
    "        self.expectedLifespan = expectedLifespan"
   ]
  },
  {
   "cell_type": "code",
   "execution_count": 29,
   "id": "f057b518",
   "metadata": {},
   "outputs": [],
   "source": [
    "class DepartmentManager:\n",
    "    def __init__(self):\n",
    "        self.departments = {}"
   ]
  },
  {
   "cell_type": "code",
   "execution_count": 30,
   "id": "fdbb9752",
   "metadata": {
    "scrolled": true
   },
   "outputs": [],
   "source": [
    "deptManager = DepartmentManager()\n",
    "mktDept = Department(\"Jamie Doe\")\n",
    "mktDeptAsset1 = DepartmentAsset(\"desk\",5000,2,10)\n",
    "mktDeptAsset2 = DepartmentAsset(\"computer\",1500,5,5)\n",
    "mktDept.departmentAssets.append(mktDeptAsset1)\n",
    "mktDept.departmentAssets.append(mktDeptAsset2)\n",
    "financeDept = Department(\"Ryan Doe\")\n",
    "financeDeptAsset1 = DepartmentAsset(\"chair\",500,2,10)\n",
    "financeDeptAsset2 = DepartmentAsset(\"calculator\",500,3,5)\n",
    "financeDept.departmentAssets.append(financeDeptAsset1)\n",
    "financeDept.departmentAssets.append(financeDeptAsset2)\n",
    "deptManager.departments[\"marketing\"] = mktDept\n",
    "deptManager.departments[\"finance\"] = financeDept"
   ]
  },
  {
   "cell_type": "code",
   "execution_count": 31,
   "id": "7dbf8d69",
   "metadata": {
    "scrolled": true
   },
   "outputs": [
    {
     "name": "stdout",
     "output_type": "stream",
     "text": [
      "Jamie Doe is in charge of the marketing department and the following assets less than $2000:\n",
      "5 computers at $1500 each. This asset is expected to last for 5 years\n",
      "Ryan Doe is in charge of the finance department and the following assets less than $2000:\n",
      "2 chairs at $500 each. This asset is expected to last for 10 years\n",
      "3 calculators at $500 each. This asset is expected to last for 5 years\n"
     ]
    }
   ],
   "source": [
    "for key, value in deptManager.departments.items():\n",
    "    print(\"{} is in charge of the {} department and the following assets less than $2000:\".format(value.departmentSupervisor, key))\n",
    "    for value in value.departmentAssets:\n",
    "        if value.assetValue<2000:\n",
    "            print(\"{} {}s at ${} each. This asset is expected to last for {} years\".format(value.quantity, value.assetName, value.assetValue, value.expectedLifespan) )"
   ]
  },
  {
   "cell_type": "code",
   "execution_count": null,
   "id": "8078c30c",
   "metadata": {},
   "outputs": [],
   "source": []
  }
 ],
 "metadata": {
  "kernelspec": {
   "display_name": "Python 3",
   "language": "python",
   "name": "python3"
  },
  "language_info": {
   "codemirror_mode": {
    "name": "ipython",
    "version": 3
   },
   "file_extension": ".py",
   "mimetype": "text/x-python",
   "name": "python",
   "nbconvert_exporter": "python",
   "pygments_lexer": "ipython3",
   "version": "3.8.8"
  }
 },
 "nbformat": 4,
 "nbformat_minor": 5
}
