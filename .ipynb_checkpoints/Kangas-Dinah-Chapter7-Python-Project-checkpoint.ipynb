{
 "cells": [
  {
   "cell_type": "code",
   "execution_count": 55,
   "id": "f67a1e70",
   "metadata": {},
   "outputs": [],
   "source": [
    "class SimpleMath:\n",
    "    def divide(numerator,denominator):\n",
    "        result = numerator/denominator\n",
    "        if(denominator == 0):\n",
    "            raise ZeroDivisionError(\"Cannot divide by 0\")\n",
    "        return result"
   ]
  },
  {
   "cell_type": "code",
   "execution_count": 56,
   "id": "8cc973a1",
   "metadata": {},
   "outputs": [],
   "source": [
    "import unittest"
   ]
  },
  {
   "cell_type": "code",
   "execution_count": 61,
   "id": "2b33aafa",
   "metadata": {},
   "outputs": [
    {
     "name": "stderr",
     "output_type": "stream",
     "text": [
      "..E.\n",
      "======================================================================\n",
      "ERROR: testThatZeroDenominatorThrowsException (__main__.SimpleMathTest)\n",
      "----------------------------------------------------------------------\n",
      "Traceback (most recent call last):\n",
      "  File \"<ipython-input-57-3e0c62217b39>\", line 9, in testThatZeroDenominatorThrowsException\n",
      "    SimpleMath.divide(6,0)\n",
      "  File \"<ipython-input-55-5f671ba87c68>\", line 3, in divide\n",
      "    result = numerator/denominator\n",
      "ZeroDivisionError: division by zero\n",
      "\n",
      "----------------------------------------------------------------------\n",
      "Ran 4 tests in 0.003s\n",
      "\n",
      "FAILED (errors=1)\n"
     ]
    }
   ],
   "source": [
    "class SimpleMathTest(unittest.TestCase):\n",
    "    def testThatZeroNumeratorReturnsZero(self):\n",
    "        self.assertEqual(SimpleMath.divide(0,7),0)\n",
    "    def testThatSmallerNumeratorReturnsDecimalValue(self):\n",
    "        self.assertEqual(SimpleMath.divide(1,4),0.25)\n",
    "    def testThatSmallerNumeratorReturnsRepeatingDecimalValue(self):\n",
    "        self.assertAlmostEqual(SimpleMath.divide(1,7),0.143,3)\n",
    "    def testThatZeroDenominatorThrowsException(self):\n",
    "        with self.assertRaises(ZeroDivisionError):\n",
    "            SimpleMath.divide(6,0)\n",
    "    if __name__=='__main__':\n",
    "        unittest.main(argv=['first-arg-is-ignored'], exit=False)"
   ]
  },
  {
   "cell_type": "code",
   "execution_count": null,
   "id": "d088b712",
   "metadata": {},
   "outputs": [],
   "source": []
  }
 ],
 "metadata": {
  "kernelspec": {
   "display_name": "Python 3",
   "language": "python",
   "name": "python3"
  },
  "language_info": {
   "codemirror_mode": {
    "name": "ipython",
    "version": 3
   },
   "file_extension": ".py",
   "mimetype": "text/x-python",
   "name": "python",
   "nbconvert_exporter": "python",
   "pygments_lexer": "ipython3",
   "version": "3.8.8"
  }
 },
 "nbformat": 4,
 "nbformat_minor": 5
}
