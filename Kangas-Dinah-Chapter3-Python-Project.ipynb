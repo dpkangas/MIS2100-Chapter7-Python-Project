{
 "cells": [
  {
   "cell_type": "code",
   "execution_count": null,
   "id": "02edbb8f",
   "metadata": {},
   "outputs": [],
   "source": [
    "from IPython.core.debugger import set_trace"
   ]
  },
  {
   "cell_type": "code",
   "execution_count": null,
   "id": "60cade10",
   "metadata": {},
   "outputs": [],
   "source": [
    "class Customer:\n",
    "    def changePhone(self):\n",
    "        self.phone = \"555-555-5555\"\n",
    "        myName = \"Pat\""
   ]
  },
  {
   "cell_type": "code",
   "execution_count": null,
   "id": "c753c74d",
   "metadata": {},
   "outputs": [],
   "source": [
    "customer = Customer()\n",
    "customer.changePhone()\n",
    "#didn't have quoations around Pat"
   ]
  },
  {
   "cell_type": "code",
   "execution_count": null,
   "id": "f9a02d52",
   "metadata": {},
   "outputs": [],
   "source": [
    "class MyMath:\n",
    "    def divide(self,numerator,denominator):\n",
    "        if(denominator == 0):\n",
    "            set_trace()\n",
    "            raise ZeroDivisionError(\"Cannot divide by 0\")\n",
    "        result = numerator/denominator\n",
    "        print(result)\n",
    "        set_trace()\n",
    "        return result\n",
    "    def loadDataFromFile(self,fileLocation):\n",
    "        try:\n",
    "            open(fileLocation,\"r\")\n",
    "        except FileNotFoundError as e:\n",
    "            print(e)"
   ]
  },
  {
   "cell_type": "code",
   "execution_count": null,
   "id": "3fa5b6bc",
   "metadata": {},
   "outputs": [],
   "source": [
    "mathObject = MyMath()\n",
    "mathObject.loadDataFromFile(\"C:/myfile/wrongFile.txt\")\n",
    "mathObject.divide(6.0,5.0)\n",
    "mathObject.divide(9.5,0.0)\n",
    "#ipdb> numerator 6.0\n",
    "#ipdb> denominator 5.0\n",
    "#ipdb> result 1.2\n",
    "#ipdb> numerator 9.5\n",
    "#ipdb> denominator 0.0\n",
    "#ipdb> result *** NameError: name 'result' is not defined"
   ]
  },
  {
   "cell_type": "code",
   "execution_count": null,
   "id": "dc800d0f",
   "metadata": {},
   "outputs": [],
   "source": []
  }
 ],
 "metadata": {
  "kernelspec": {
   "display_name": "Python 3",
   "language": "python",
   "name": "python3"
  },
  "language_info": {
   "codemirror_mode": {
    "name": "ipython",
    "version": 3
   },
   "file_extension": ".py",
   "mimetype": "text/x-python",
   "name": "python",
   "nbconvert_exporter": "python",
   "pygments_lexer": "ipython3",
   "version": "3.8.8"
  }
 },
 "nbformat": 4,
 "nbformat_minor": 5
}
