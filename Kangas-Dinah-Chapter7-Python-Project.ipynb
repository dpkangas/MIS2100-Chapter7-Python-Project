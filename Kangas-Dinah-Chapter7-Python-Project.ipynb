{
 "cells": [
  {
   "cell_type": "code",
   "execution_count": 62,
   "id": "f67a1e70",
   "metadata": {},
   "outputs": [],
   "source": [
    "class SimpleMath:\n",
    "    def divide(numerator,denominator):\n",
    "        result = numerator/denominator\n",
    "        if(denominator == 0):\n",
    "            raise ZeroDivisionError(\"Cannot divide by 0\")\n",
    "        return result"
   ]
  },
  {
   "cell_type": "code",
   "execution_count": 63,
   "id": "8cc973a1",
   "metadata": {},
   "outputs": [],
   "source": [
    "import unittest"
   ]
  },
  {
   "cell_type": "code",
   "execution_count": 64,
   "id": "2b33aafa",
   "metadata": {},
   "outputs": [
    {
     "name": "stderr",
     "output_type": "stream",
     "text": [
      "....\n",
      "----------------------------------------------------------------------\n",
      "Ran 4 tests in 0.003s\n",
      "\n",
      "OK\n"
     ]
    }
   ],
   "source": [
    "class SimpleMathTest(unittest.TestCase):\n",
    "    def testThatZeroNumeratorReturnsZero(self):\n",
    "        self.assertEqual(SimpleMath.divide(0,7),0)\n",
    "    def testThatSmallerNumeratorReturnsDecimalValue(self):\n",
    "        self.assertEqual(SimpleMath.divide(1,4),0.25)\n",
    "    def testThatSmallerNumeratorReturnsRepeatingDecimalValue(self):\n",
    "        self.assertAlmostEqual(SimpleMath.divide(1,7),0.143,3)\n",
    "    def testThatZeroDenominatorThrowsException(self):\n",
    "        with self.assertRaises(ZeroDivisionError):\n",
    "            SimpleMath.divide(6,0)\n",
    "    if __name__=='__main__':\n",
    "        unittest.main(argv=['first-arg-is-ignored'], exit=False)"
   ]
  },
  {
   "cell_type": "code",
   "execution_count": null,
   "id": "8e58e497",
   "metadata": {},
   "outputs": [],
   "source": []
  }
 ],
 "metadata": {
  "kernelspec": {
   "display_name": "Python 3",
   "language": "python",
   "name": "python3"
  },
  "language_info": {
   "codemirror_mode": {
    "name": "ipython",
    "version": 3
   },
   "file_extension": ".py",
   "mimetype": "text/x-python",
   "name": "python",
   "nbconvert_exporter": "python",
   "pygments_lexer": "ipython3",
   "version": "3.8.8"
  }
 },
 "nbformat": 4,
 "nbformat_minor": 5
}
